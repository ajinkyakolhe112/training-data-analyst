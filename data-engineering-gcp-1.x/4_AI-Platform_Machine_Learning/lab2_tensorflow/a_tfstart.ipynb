{
 "cells": [
  {
   "cell_type": "markdown",
   "metadata": {},
   "source": [
    "<h1> Getting started with TensorFlow </h1>\n",
    "\n",
    "In this notebook, you play around with the TensorFlow Python API."
   ]
  },
  {
   "cell_type": "code",
   "execution_count": null,
   "metadata": {},
   "outputs": [],
   "source": [
    "import tensorflow as tf\n",
    "import numpy as np\n",
    "\n",
    "print(tf.__version__)"
   ]
  },
  {
   "cell_type": "markdown",
   "metadata": {},
   "source": [
    "<h2> Adding two tensors </h2>\n",
    "\n",
    "First, let's try doing this using numpy, the Python numeric package. numpy code is immediately evaluated."
   ]
  },
  {
   "cell_type": "code",
   "execution_count": null,
   "metadata": {},
   "outputs": [],
   "source": [
    "a = np.array([5, 3, 8])\n",
    "b = np.array([3, -1, 2])\n",
    "c = np.add(a, b)\n",
    "print(c)"
   ]
  },
  {
   "cell_type": "markdown",
   "metadata": {},
   "source": [
    "The equivalent code in TensorFlow consists of two steps:\n",
    "<p>\n",
    "<h3> Step 1: Build the graph </h3>"
   ]
  },
  {
   "cell_type": "code",
   "execution_count": null,
   "metadata": {},
   "outputs": [],
   "source": [
    "a = tf.constant([5, 3, 8])\n",
    "b = tf.constant([3, -1, 2])\n",
    "c = tf.add(a, b)\n",
    "print(c)"
   ]
  },
  {
   "cell_type": "markdown",
   "metadata": {},
   "source": [
    "c is an Op (\"Add\") that returns a tensor of shape (3,) and holds int32. The shape is inferred from the computation graph.\n",
    "\n",
    "Try the following in the cell above:\n",
    "<ol>\n",
    "<li> Change the 5 to 5.0, and similarly the other five numbers. What happens when you run this cell? </li>\n",
    "<li> Add an extra number to a, but leave b at the original (3,) shape. What happens when you run this cell? </li>\n",
    "<li> Change the code back to a version that works </li>\n",
    "</ol>\n",
    "\n",
    "<p/>\n",
    "<h3> Step 2: Run the graph"
   ]
  },
  {
   "cell_type": "code",
   "execution_count": null,
   "metadata": {},
   "outputs": [],
   "source": [
    "with tf.Session() as sess:\n",
    "  result = sess.run(c)\n",
    "  print(result)"
   ]
  },
  {
   "cell_type": "markdown",
   "metadata": {},
   "source": [
    "<h2> Using Placeholder & feed_dict </h2>\n",
    "\n",
    "Same graph, but without hardcoding inputs at build stage\n",
    "More common is to define the input to a program as a placeholder and then to feed in the inputs."
   ]
  },
  {
   "cell_type": "code",
   "execution_count": null,
   "metadata": {},
   "outputs": [],
   "source": [
    "a = tf.placeholder(dtype=tf.int32, shape=(None,))  # batchsize x scalar\n",
    "b = tf.placeholder(dtype=tf.int32, shape=(None,))\n",
    "c = tf.add(a, b)\n",
    "with tf.Session() as sess:\n",
    "  result = sess.run(c, feed_dict={\n",
    "      a: [3, 4, 5],\n",
    "      b: [-1, 2, 3]\n",
    "    })\n",
    "  print(result)"
   ]
  },
  {
   "cell_type": "markdown",
   "metadata": {},
   "source": [
    "## tf.eager\n",
    "\n",
    "tf.eager allows you to avoid the build-then-run stages. However, most production code will follow the lazy evaluation paradigm because the lazy evaluation paradigm is what allows for multi-device support and distribution. \n",
    "<p>\n",
    "One thing you could do is to develop using tf.eager and then comment out the eager execution and add in the session management code.\n",
    "\n",
    "<b> To run this block, you must first reset the notebook using Reset on the menu bar, then run this block only. </b>"
   ]
  },
  {
   "cell_type": "code",
   "execution_count": null,
   "metadata": {},
   "outputs": [],
   "source": [
    "import tensorflow as tf\n",
    "from tensorflow.contrib.eager.python import tfe\n",
    "\n",
    "tfe.enable_eager_execution()\n",
    "\n",
    "a = tf.constant([5, 3, 8])\n",
    "b = tf.constant([3, -1, 2])\n",
    "c = tf.add(a, b)\n",
    "print(c)"
   ]
  },
  {
   "cell_type": "markdown",
   "metadata": {},
   "source": [
    "Copyright 2017 Google Inc. Licensed under the Apache License, Version 2.0 (the \"License\"); you may not use this file except in compliance with the License. You may obtain a copy of the License at http://www.apache.org/licenses/LICENSE-2.0 Unless required by applicable law or agreed to in writing, software distributed under the License is distributed on an \"AS IS\" BASIS, WITHOUT WARRANTIES OR CONDITIONS OF ANY KIND, either express or implied. See the License for the specific language governing permissions and limitations under the License"
   ]
  }
 ],
 "metadata": {
  "kernelspec": {
   "display_name": "Python 3",
   "language": "python",
   "name": "python3"
  },
  "language_info": {
   "codemirror_mode": {
    "name": "ipython",
    "version": 3
   },
   "file_extension": ".py",
   "mimetype": "text/x-python",
   "name": "python",
   "nbconvert_exporter": "python",
   "pygments_lexer": "ipython3",
   "version": "3.7.0"
  }
 },
 "nbformat": 4,
 "nbformat_minor": 2
}
